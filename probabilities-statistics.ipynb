{
 "cells": [
  {
   "cell_type": "markdown",
   "source": [
    "# Probabilities and statistics\n",
    "\n",
    "## 1. Random variables\n",
    "* a variable whose possible values are outcomes of a random phenomenon:\n",
    "    - discrete (e.g. throwing a die)\n",
    "    - continuous (e.g. the age of death)\n",
    "## 2. Probability distributions:\n",
    "* describes probabilities of values a random variable can take\n",
    "    - discrete (e.g. throwing a die)\n",
    "    - continuous (e.g. the age of death)\n",
    "\n",
    "## 3. Normal Distribution:\n",
    "* In Machine Learning, data satisfying Normal Distribution is beneficial for model\n",
    "building.\n",
    "* Models like LDA, Gaussian NBC, Logistic regression, Linear Regression, etc,\n",
    "use the assumption of normally distributed data.\n",
    "* Sigmoid functions work most naturally with normally distributed data\n",
    "* natural phenomena (e.g., financial data, forecasting data) follow a log-normal\n",
    "distribution\n",
    "* continuous probability distribution of a random variable whose logarithm\n",
    "is normally distributed.\n",
    "\n",
    "### ML models may work very well in the case of non-normally distributed data:\n",
    "* Decision trees, XGBoost, don’t assume any normality and work on raw\n",
    "data.\n",
    "* Linear regression is statistically effective if only the model errors are\n",
    "Gaussian, not exactly the entire dataset.\n",
    "\n",
    "## 4. Moments:\n",
    "* mean, variance, standard deviation\n",
    "1. mean – expected value\n",
    "2. variance – expected squared distance from mean\n",
    "3. standard deviation measures spread of distribution. Low std means close to the mean\n",
    "\n",
    "## 5. Correlation\n",
    "Statistical relationship between two random variables\n",
    "Correlation coefficients – measure the degree to which the variables are\n",
    "monotonically related\n",
    "\n",
    "1. Pearson - is used for measuring the degree of linear relationship between\n",
    "two features\n",
    "2. Spearman - describes the strength and direction of the monotonic relationship\n",
    "between two variables (even if their relationship is not linear)\n",
    "\n",
    "Example: \n",
    "* linear correlation: y=2x+3\n",
    "* monotonic: y=ln(x)\n",
    "\n",
    "### In supervised learning:\n",
    "- features well correlated with the target output\n",
    "- independent features"
   ],
   "metadata": {
    "collapsed": false
   },
   "id": "7a0d55f041478cd7"
  },
  {
   "cell_type": "markdown",
   "source": [
    "# Statistics:\n",
    "\n",
    "two random variables are independent if they convey no information about each\n",
    "other: P(A|B) = P(A) -> it means The probability of A, given that B has occurred, is the same as the probability of A without knowing anything about B.\n",
    "\n",
    "## 1. Independence => uncorrelation, but uncorrelation does not imply independence\n",
    "Pearson’s 2 (Chi-squared) test for independence\n",
    "\n",
    "conditional probability (Bayes theorem): P(A|B) = P(B|A)*P(A)/P(B)"
   ],
   "metadata": {
    "collapsed": false
   },
   "id": "754f544c9eec139e"
  },
  {
   "cell_type": "code",
   "outputs": [],
   "source": [],
   "metadata": {
    "collapsed": true
   },
   "id": "initial_id",
   "execution_count": 0
  }
 ],
 "metadata": {
  "kernelspec": {
   "display_name": "Python 3",
   "language": "python",
   "name": "python3"
  },
  "language_info": {
   "codemirror_mode": {
    "name": "ipython",
    "version": 2
   },
   "file_extension": ".py",
   "mimetype": "text/x-python",
   "name": "python",
   "nbconvert_exporter": "python",
   "pygments_lexer": "ipython2",
   "version": "2.7.6"
  }
 },
 "nbformat": 4,
 "nbformat_minor": 5
}
