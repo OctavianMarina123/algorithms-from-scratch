{
 "cells": [
  {
   "cell_type": "markdown",
   "source": [
    "# Future Engineering"
   ],
   "metadata": {
    "collapsed": false
   },
   "id": "15884f4a3ecf1a77"
  },
  {
   "cell_type": "code",
   "outputs": [],
   "source": [
    "import pandas as pd"
   ],
   "metadata": {
    "collapsed": true,
    "ExecuteTime": {
     "end_time": "2024-12-19T18:22:07.049940Z",
     "start_time": "2024-12-19T18:22:07.048194Z"
    }
   },
   "id": "initial_id",
   "execution_count": 1
  },
  {
   "cell_type": "code",
   "outputs": [],
   "source": [
    "df = pd.read_csv('./datasets/Student_Performance.csv')\n",
    "df.drop(['Extracurricular Activities'], axis=1, inplace=True)"
   ],
   "metadata": {
    "collapsed": false,
    "ExecuteTime": {
     "end_time": "2024-12-19T18:23:39.860594Z",
     "start_time": "2024-12-19T18:23:39.849646Z"
    }
   },
   "id": "be9b4a53d374932c",
   "execution_count": 9
  },
  {
   "cell_type": "code",
   "outputs": [
    {
     "data": {
      "text/plain": "      Hours Studied  Previous Scores  Sleep Hours  \\\n0                 7               99            9   \n1                 4               82            4   \n2                 8               51            7   \n3                 5               52            5   \n4                 7               75            8   \n...             ...              ...          ...   \n9995              1               49            4   \n9996              7               64            8   \n9997              6               83            8   \n9998              9               97            7   \n9999              7               74            8   \n\n      Sample Question Papers Practiced  Performance Index  \n0                                    1               91.0  \n1                                    2               65.0  \n2                                    2               45.0  \n3                                    2               36.0  \n4                                    5               66.0  \n...                                ...                ...  \n9995                                 2               23.0  \n9996                                 5               58.0  \n9997                                 5               74.0  \n9998                                 0               95.0  \n9999                                 1               64.0  \n\n[10000 rows x 5 columns]",
      "text/html": "<div>\n<style scoped>\n    .dataframe tbody tr th:only-of-type {\n        vertical-align: middle;\n    }\n\n    .dataframe tbody tr th {\n        vertical-align: top;\n    }\n\n    .dataframe thead th {\n        text-align: right;\n    }\n</style>\n<table border=\"1\" class=\"dataframe\">\n  <thead>\n    <tr style=\"text-align: right;\">\n      <th></th>\n      <th>Hours Studied</th>\n      <th>Previous Scores</th>\n      <th>Sleep Hours</th>\n      <th>Sample Question Papers Practiced</th>\n      <th>Performance Index</th>\n    </tr>\n  </thead>\n  <tbody>\n    <tr>\n      <th>0</th>\n      <td>7</td>\n      <td>99</td>\n      <td>9</td>\n      <td>1</td>\n      <td>91.0</td>\n    </tr>\n    <tr>\n      <th>1</th>\n      <td>4</td>\n      <td>82</td>\n      <td>4</td>\n      <td>2</td>\n      <td>65.0</td>\n    </tr>\n    <tr>\n      <th>2</th>\n      <td>8</td>\n      <td>51</td>\n      <td>7</td>\n      <td>2</td>\n      <td>45.0</td>\n    </tr>\n    <tr>\n      <th>3</th>\n      <td>5</td>\n      <td>52</td>\n      <td>5</td>\n      <td>2</td>\n      <td>36.0</td>\n    </tr>\n    <tr>\n      <th>4</th>\n      <td>7</td>\n      <td>75</td>\n      <td>8</td>\n      <td>5</td>\n      <td>66.0</td>\n    </tr>\n    <tr>\n      <th>...</th>\n      <td>...</td>\n      <td>...</td>\n      <td>...</td>\n      <td>...</td>\n      <td>...</td>\n    </tr>\n    <tr>\n      <th>9995</th>\n      <td>1</td>\n      <td>49</td>\n      <td>4</td>\n      <td>2</td>\n      <td>23.0</td>\n    </tr>\n    <tr>\n      <th>9996</th>\n      <td>7</td>\n      <td>64</td>\n      <td>8</td>\n      <td>5</td>\n      <td>58.0</td>\n    </tr>\n    <tr>\n      <th>9997</th>\n      <td>6</td>\n      <td>83</td>\n      <td>8</td>\n      <td>5</td>\n      <td>74.0</td>\n    </tr>\n    <tr>\n      <th>9998</th>\n      <td>9</td>\n      <td>97</td>\n      <td>7</td>\n      <td>0</td>\n      <td>95.0</td>\n    </tr>\n    <tr>\n      <th>9999</th>\n      <td>7</td>\n      <td>74</td>\n      <td>8</td>\n      <td>1</td>\n      <td>64.0</td>\n    </tr>\n  </tbody>\n</table>\n<p>10000 rows × 5 columns</p>\n</div>"
     },
     "execution_count": 10,
     "metadata": {},
     "output_type": "execute_result"
    }
   ],
   "source": [
    "df"
   ],
   "metadata": {
    "collapsed": false,
    "ExecuteTime": {
     "end_time": "2024-12-19T18:23:40.110823Z",
     "start_time": "2024-12-19T18:23:40.106477Z"
    }
   },
   "id": "95c390d9ff01d722",
   "execution_count": 10
  },
  {
   "cell_type": "code",
   "outputs": [],
   "source": [],
   "metadata": {
    "collapsed": false
   },
   "id": "7b9ecb0d6544e2dd"
  }
 ],
 "metadata": {
  "kernelspec": {
   "display_name": "Python 3",
   "language": "python",
   "name": "python3"
  },
  "language_info": {
   "codemirror_mode": {
    "name": "ipython",
    "version": 2
   },
   "file_extension": ".py",
   "mimetype": "text/x-python",
   "name": "python",
   "nbconvert_exporter": "python",
   "pygments_lexer": "ipython2",
   "version": "2.7.6"
  }
 },
 "nbformat": 4,
 "nbformat_minor": 5
}
